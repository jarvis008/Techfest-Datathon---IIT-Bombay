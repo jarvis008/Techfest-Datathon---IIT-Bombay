{
  "cells": [
    {
      "cell_type": "code",
      "execution_count": null,
      "metadata": {
        "colab": {
          "base_uri": "https://localhost:8080/"
        },
        "id": "X9ln9X9gl5ZM",
        "outputId": "e259fc8d-b6e7-41d4-e72c-3113bdd51521"
      },
      "outputs": [],
      "source": [
        "# !pip install pmdarima"
      ]
    },
    {
      "cell_type": "code",
      "execution_count": null,
      "metadata": {
        "id": "_QkyKBe-fXU-"
      },
      "outputs": [],
      "source": [
        "import pandas as pd\n",
        "import numpy as np\n",
        "import matplotlib.pyplot as plt\n",
        "from statsmodels.graphics.tsaplots import plot_pacf, plot_acf\n",
        "import pmdarima as pm"
      ]
    },
    {
      "cell_type": "code",
      "execution_count": null,
      "metadata": {
        "colab": {
          "base_uri": "https://localhost:8080/"
        },
        "id": "FNKsWS8Kfd6C",
        "outputId": "bbfd5420-fae7-460e-c705-513321b24699"
      },
      "outputs": [],
      "source": [
        "# from google.colab import drive\n",
        "# drive.mount('/content/drive')"
      ]
    },
    {
      "cell_type": "code",
      "execution_count": null,
      "metadata": {
        "id": "_E4mUONtfXVC"
      },
      "outputs": [],
      "source": [
        "ad = \"linclin.csv\"\n",
        "adg = '/content/linclin.csv'\n",
        "\n",
        "dfr = pd.read_csv(ad, index_col = \"Month\")"
      ]
    },
    {
      "cell_type": "code",
      "execution_count": null,
      "metadata": {
        "id": "znSa7RfGf5-4"
      },
      "outputs": [],
      "source": [
        "# dfr = df.T\n",
        "# # dfr.rename(columns={\"Region_Name\":\"Month\"}, inplace=True)\n",
        "# dfr.insert(0, \"Months\", np.arange(1, 73))\n",
        "# dfr.reset_index(inplace=True)\n",
        "# dfr.drop(columns=[\"index\"], inplace=True)"
      ]
    },
    {
      "cell_type": "code",
      "execution_count": null,
      "metadata": {
        "colab": {
          "base_uri": "https://localhost:8080/"
        },
        "id": "QXvh9UGvhW9T",
        "outputId": "e2613115-801f-4342-a3b8-bd422252d965"
      },
      "outputs": [],
      "source": [
        "dfr[\"Region 69\"]"
      ]
    },
    {
      "cell_type": "code",
      "execution_count": null,
      "metadata": {
        "id": "WIyL_Amdn_DM"
      },
      "outputs": [],
      "source": [
        "mon = [\"Month {}\".format(i) for i in range(73, 88)]\n",
        "dict = {\"Month\":mon}\n",
        "fincsv = pd.DataFrame(dict)"
      ]
    },
    {
      "cell_type": "code",
      "execution_count": null,
      "metadata": {
        "colab": {
          "base_uri": "https://localhost:8080/"
        },
        "id": "3OiUF93cgN9A",
        "outputId": "506aefd2-46a7-446e-aad3-fb71a86db89e"
      },
      "outputs": [],
      "source": [
        "for i in range(1, 2):\n",
        "  print(i)\n",
        "  region = \"Region \" + str(i)\n",
        "  Ntest = 15\n",
        "  train = dfr.iloc[:, i]\n",
        "  # test = dfr.iloc[-Ntest:, i]\n",
        "  train_idx = dfr[region].index <= train.index[-1]\n",
        "  # test_idx = dfr[region].index > train.index[-1]\n",
        "  model = pm.auto_arima(train,\n",
        "                        trace=True,\n",
        "                        suppress_warnings=True,\n",
        "                        max_p=12, max_q=6, max_order=20,\n",
        "                        seasonal=True,step_wise=False, m=12)\n",
        "  train_pred = model.predict_in_sample(start=12, end=-1)\n",
        "  test_pred, confint = model.predict(n_periods=Ntest, return_conf_int=True)\n",
        "  fincsv[\"Region {}\".format(i)] = test_pred\n",
        "\n",
        "  fig, ax = plt.subplots(figsize=(10, 5))\n",
        "  ax.plot(dfr[region].index, dfr[region], label='data')\n",
        "  ax.plot(np.arange(13, 73), train_pred, label='fitted')\n",
        "  ax.plot(np.arange(72, 87), test_pred, label='forecast')\n",
        "  ax.fill_between(np.arange(72, 87), \\\n",
        "                  confint[:,0], confint[:,1], \\\n",
        "                  color='red', alpha=0.3)\n",
        "  ax.legend();\n",
        "\n",
        "  test_pred.shape"
      ]
    },
    {
      "cell_type": "code",
      "execution_count": null,
      "metadata": {
        "id": "jWyjNkH1o8Da"
      },
      "outputs": [],
      "source": [
        "fincsv.set_index(\"Month\")\n",
        "fincsv.to_csv('autoarcsv.csv')\n",
        "fincsv.iloc[:, -5:]"
      ]
    },
    {
      "cell_type": "code",
      "execution_count": null,
      "metadata": {
        "id": "v1m4rd51i8qO"
      },
      "outputs": [],
      "source": []
    }
  ],
  "metadata": {
    "colab": {
      "name": "auto.ipynb",
      "provenance": []
    },
    "interpreter": {
      "hash": "b3ba2566441a7c06988d0923437866b63cedc61552a5af99d1f4fb67d367b25f"
    },
    "kernelspec": {
      "display_name": "Python 3 (ipykernel)",
      "language": "python",
      "name": "python3"
    },
    "language_info": {
      "codemirror_mode": {
        "name": "ipython",
        "version": 3
      },
      "file_extension": ".py",
      "mimetype": "text/x-python",
      "name": "python",
      "nbconvert_exporter": "python",
      "pygments_lexer": "ipython3",
      "version": "3.9.7"
    }
  },
  "nbformat": 4,
  "nbformat_minor": 0
}
