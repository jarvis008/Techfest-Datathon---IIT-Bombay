{
 "cells": [
  {
   "cell_type": "code",
   "execution_count": 49,
   "metadata": {},
   "outputs": [],
   "source": [
    "import pandas as pd"
   ]
  },
  {
   "cell_type": "code",
   "execution_count": 50,
   "metadata": {},
   "outputs": [],
   "source": [
    "a = pd.read_csv(\"1200, 1400.csv\")\n",
    "# a = a.drop(columns = {\"Region 2181\"})\n",
    "b = pd.read_csv(\"1000 1200.csv\")\n",
    "b.rename(columns={\"Months\":\"Month\"}, inplace=True)\n",
    "# c = pd.read_csv(\"2000 3000.csv\")\n",
    "# d = pd.read_csv(\"3000 3916.csv\")\n",
    "# m1 = a.merge(b)\n",
    "# m1 = m1.merge(d)\n",
    "# m1 = m1.drop(columns={\"Unnamed: 0\"})\n",
    "# m1.to_csv(\"fndip.csv\")\n",
    "# m1.iloc[:, 3914:]\n",
    "a.drop(columns=\"Unnamed: 0\", inplace=True)\n",
    "b.drop(columns={\"Month\"})\n",
    "b[\"Month\"] = [\"Month \"+str(i) for i in range(73, 88)]\n",
    "a.drop(columns={\"Month\"})\n",
    "a[\"Month\"] = [\"Month \"+str(i) for i in range(73, 88)]\n",
    "m1 = a.merge(b)\n",
    "m1.set_index(\"Month\", inplace=True)\n",
    "m1.to_csv(\"fndip.csv\")"
   ]
  },
  {
   "cell_type": "code",
   "execution_count": 52,
   "metadata": {},
   "outputs": [
    {
     "data": {
      "text/plain": [
       "(15, 367)"
      ]
     },
     "execution_count": 52,
     "metadata": {},
     "output_type": "execute_result"
    }
   ],
   "source": [
    "m1.shape"
   ]
  },
  {
   "cell_type": "code",
   "execution_count": null,
   "metadata": {},
   "outputs": [],
   "source": []
  }
 ],
 "metadata": {
  "interpreter": {
   "hash": "b3ba2566441a7c06988d0923437866b63cedc61552a5af99d1f4fb67d367b25f"
  },
  "kernelspec": {
   "display_name": "Python 3.8.8 64-bit ('base': conda)",
   "language": "python",
   "name": "python3"
  },
  "language_info": {
   "codemirror_mode": {
    "name": "ipython",
    "version": 3
   },
   "file_extension": ".py",
   "mimetype": "text/x-python",
   "name": "python",
   "nbconvert_exporter": "python",
   "pygments_lexer": "ipython3",
   "version": "3.9.7"
  },
  "orig_nbformat": 4
 },
 "nbformat": 4,
 "nbformat_minor": 2
}
