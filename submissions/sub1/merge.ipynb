{
 "cells": [
  {
   "cell_type": "code",
   "execution_count": 25,
   "metadata": {},
   "outputs": [],
   "source": [
    "import pandas as pd"
   ]
  },
  {
   "cell_type": "code",
   "execution_count": 37,
   "metadata": {},
   "outputs": [],
   "source": [
    "a = pd.read_csv(\"1, 500.csv\")\n",
    "b = pd.read_csv(\"500, 1000.csv\")\n",
    "c = pd.read_csv(\"1000, 2000.csv\")\n",
    "d = pd.read_csv(\"2000, 2867.csv\")\n",
    "e = pd.read_csv(\"2868, 2900.csv\")\n",
    "f = pd.read_csv(\"2900, 3400.csv\")\n",
    "g = pd.read_csv(\"3400, 3915.csv\")\n",
    "m1 = a.merge(b)\n",
    "m2 = m1.merge(c)\n",
    "m3 = m2.merge(d)\n",
    "m4 = m3.merge(e)\n",
    "m5 = m4.merge(f)\n",
    "m6 = m5.merge(g)\n",
    "m6.set_index(\"Month\", inplace=True)\n",
    "merge_final = m6.drop(columns={\"Unnamed: 0\"})\n",
    "merge_final.to_csv(\"merge_final.csv\")"
   ]
  }
 ],
 "metadata": {
  "interpreter": {
   "hash": "b3ba2566441a7c06988d0923437866b63cedc61552a5af99d1f4fb67d367b25f"
  },
  "kernelspec": {
   "display_name": "Python 3.8.8 64-bit ('base': conda)",
   "language": "python",
   "name": "python3"
  },
  "language_info": {
   "codemirror_mode": {
    "name": "ipython",
    "version": 3
   },
   "file_extension": ".py",
   "mimetype": "text/x-python",
   "name": "python",
   "nbconvert_exporter": "python",
   "pygments_lexer": "ipython3",
   "version": "3.8.8"
  },
  "orig_nbformat": 4
 },
 "nbformat": 4,
 "nbformat_minor": 2
}
