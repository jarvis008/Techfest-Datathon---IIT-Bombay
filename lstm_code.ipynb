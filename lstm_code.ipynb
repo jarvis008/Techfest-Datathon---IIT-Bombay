{
 "cells": [
  {
   "cell_type": "code",
   "execution_count": null,
   "metadata": {
    "id": "LFTvPj4dD-oV"
   },
   "outputs": [],
   "source": [
    "import numpy as np\n",
    "import pandas as pd\n",
    "\n",
    "from tensorflow import keras\n",
    "from tensorflow.keras.models import Sequential\n",
    "from tensorflow.keras.layers import LSTM, Dense, Dropout,Bidirectional,Flatten,TimeDistributed, Conv1D, MaxPooling1D, BatchNormalization\n",
    "\n",
    "import matplotlib.pyplot as plt\n",
    "from statsmodels.graphics.tsaplots import plot_pacf, plot_acf\n",
    "from statsmodels.tsa.seasonal import STL\n",
    "import os\n",
    "from keras.layers import Bidirectional\n",
    "from keras.layers import Flatten\n",
    "from keras.layers import TimeDistributed\n",
    "from keras.layers.convolutional import Conv1D\n",
    "from keras.layers.convolutional import MaxPooling1D\n",
    "os.environ[\"TF_CPP_MIN_LOG_LEVEL\"] = \"2\"\n"
   ]
  },
  {
   "cell_type": "code",
   "execution_count": null,
   "metadata": {
    "colab": {
     "base_uri": "https://localhost:8080/"
    },
    "id": "8D-JCvwoD-oe",
    "outputId": "1f69edcb-2686-4662-a528-9f244a8f655b"
   },
   "outputs": [],
   "source": [
    "from tensorflow.compat.v1 import ConfigProto\n",
    "from tensorflow.compat.v1 import InteractiveSession\n",
    "\n",
    "config = ConfigProto()\n",
    "config.gpu_options.allow_growth = True\n",
    "session = InteractiveSession(config=config)"
   ]
  },
  {
   "cell_type": "code",
   "execution_count": null,
   "metadata": {
    "colab": {
     "base_uri": "https://localhost:8080/"
    },
    "id": "jSvHvV3hD-og",
    "outputId": "8de4d2a8-d73c-4854-f275-ba6dad15cd2c"
   },
   "outputs": [],
   "source": [
    "import tensorflow as tf\n",
    "print(\"Number GPUs Available: \", len(tf.config.list_physical_devices('GPU')))"
   ]
  },
  {
   "cell_type": "markdown",
   "metadata": {},
   "source": [
    "Cleaning"
   ]
  },
  {
   "cell_type": "code",
   "execution_count": null,
   "metadata": {},
   "outputs": [],
   "source": [
    "df = pd.read_csv(\"/home/ug2019/eee/19085023/Techfest/trainset.csv\", index_col = \"Region_Name\")\n",
    "dfr = df.T\n",
    "dfr.rename(columns={\"Region_Name\":\"Month\"}, inplace=True)\n",
    "dfr.insert(0, \"Months\", np.arange(1, 73))\n",
    "dfr.reset_index(inplace=True)\n",
    "dfr.drop(columns=[\"index\"], inplace=True)\n",
    "plt.figure(figsize=(10,4))\n",
    "plt.plot(dfr[\"Region 1015\"])\n",
    "for year in range(0,72, 6):\n",
    "    plt.axvline(year, color='k', linestyle='--', alpha=0.5)\n",
    "mon = [\"Month {}\".format(i) for i in range(1, 73)]\n",
    "dict = {\"Month\":mon}\n",
    "lilclin = pd.DataFrame(dict)\n",
    "for i in range(1, 3916):\n",
    "    print(i)\n",
    "    region = \"Region \" + str(i)\n",
    "    stl = STL(dfr[region], period = 6)\n",
    "    result = stl.fit()\n",
    "    seasonal, trend, resid = result.seasonal, result.trend, result.resid\n",
    "    estimated = trend + seasonal\n",
    "    lilclin[region] = estimated\n",
    "    # plt.figure(figsize=(12,4))\n",
    "    # plt.plot(dfr[region])\n",
    "    # plt.plot(estimated)\n",
    "lilclin.to_csv(\"/home/ug2019/eee/19085023/Techfest/lilclin.csv\")\n",
    "# lilclin\n",
    "plt.figure(figsize=(8,6))\n",
    "\n",
    "# plt.subplot(4,1,1)\n",
    "# plt.plot(dfr[\"Region 475\"])\n",
    "# plt.title('Original Series', fontsize=16)\n",
    "\n",
    "# plt.subplot(4,1,2)\n",
    "# plt.plot(trend)\n",
    "# plt.title('Trend', fontsize=16)\n",
    "\n",
    "# plt.subplot(4,1,3)\n",
    "# plt.plot(seasonal)\n",
    "# plt.title('Seasonal', fontsize=16)\n",
    "\n",
    "# plt.subplot(4,1,4)\n",
    "# plt.plot(resid)\n",
    "# plt.title('Residual', fontsize=16)\n",
    "\n",
    "plt.tight_layout()\n",
    "estimated = trend + seasonal\n",
    "plt.figure(figsize=(12,4))\n",
    "plt.plot(dfr[\"Region 1015\"])\n",
    "plt.plot(estimated)\n",
    "resid_mu = resid.mean()\n",
    "resid_dev = resid.std()\n",
    "\n",
    "lower = resid_mu - 1.5*resid_dev\n",
    "upper = resid_mu + 1.5*resid_dev\n",
    "plt.figure(figsize=(10,4))\n",
    "plt.plot(resid)\n",
    "\n",
    "plt.fill_between((1, 72), lower, upper, color='g', alpha=0.25, linestyle='--', linewidth=2)\n",
    "plt.xlim(1, 72)\n",
    "lilclin[\"Region 475\"]\n",
    "\n"
   ]
  },
  {
   "cell_type": "code",
   "execution_count": null,
   "metadata": {},
   "outputs": [],
   "source": [
    "for i in range(1, 3916):\n",
    "    reg = \"Region \" + str(i)\n",
    "    lilclin[reg] = np.where(lilclin[reg]<lilclin[reg].quantile(0.25), lilclin[reg].quantile(0.25), lilclin[reg])\n",
    "    lilclin[reg] = np.where(lilclin[reg]>lilclin[reg].quantile(0.75), lilclin[reg].quantile(0.75), lilclin[reg])\n",
    "lilclin.drop(columns=\"Unnamed: 0\", inplace=True)\n",
    "lilclin.to_csv(\"/home/ug2019/eee/19085023/Techfest/quartlilclin.csv\")"
   ]
  },
  {
   "cell_type": "code",
   "execution_count": null,
   "metadata": {
    "id": "9PkW53q7D-ok"
   },
   "outputs": [],
   "source": [
    "add = \"/home/ug2019/eee/19085023/Techfest/quartlilclin.csv\" #supercomputer address\n",
    "\n",
    "df = pd.read_csv(add, index_col=\"Month\")\n",
    "\n",
    "# no = np.array(dfr[\"Region \" + str(i+1)])\n",
    "\n",
    "# dev = np.array(df).flatten().std()\n",
    "# avg = np.array(df).flatten().mean()\n",
    "\n",
    "# df-=avg\n",
    "# df/=dev\n",
    "\n",
    "# print(avg)\n",
    "# print(dev)\n",
    "\n",
    "avg, dev = [], []\n",
    "\n",
    "n = np.array(df)\n",
    "\n",
    "# avg = np.array(df)\n",
    "\n",
    "for i in range(1,3916):\n",
    "\n",
    "    avgg = df.iloc[:,i].mean()\n",
    "    stdd = df.iloc[:,i].std()\n",
    "    \n",
    "    df.iloc[:,i] = (df.iloc[:,i]-avgg)/stdd\n",
    "    \n",
    "    avg.append(avgg)\n",
    "    dev.append(stdd)\n"
   ]
  },
  {
   "cell_type": "code",
   "execution_count": null,
   "metadata": {
    "id": "F_stqBCOKzPV"
   },
   "outputs": [],
   "source": [
    "# print(avg)"
   ]
  },
  {
   "cell_type": "code",
   "execution_count": null,
   "metadata": {
    "id": "XqZbJnI-D-om"
   },
   "outputs": [],
   "source": []
  },
  {
   "cell_type": "code",
   "execution_count": null,
   "metadata": {
    "id": "OWyV9TxPD-oo"
   },
   "outputs": [],
   "source": [
    "dfr=df"
   ]
  },
  {
   "cell_type": "code",
   "execution_count": null,
   "metadata": {
    "id": "t4C9dajWD-op"
   },
   "outputs": [],
   "source": [
    "def prepare_data(timeseries_data, n_features):\n",
    "\tX, y = [],[]\n",
    "\tfor i in range(len(timeseries_data)):\n",
    "\t\tend_ix = i + n_features\n",
    "\t\tif end_ix > len(timeseries_data) - 1:\n",
    "\t\t\tbreak\n",
    "\t\tseq_x, seq_y = timeseries_data[i:end_ix], timeseries_data[end_ix]\n",
    "\t\tX.append(seq_x)\n",
    "\t\ty.append(seq_y)\n",
    "\treturn np.array(X), np.array(y)"
   ]
  },
  {
   "cell_type": "code",
   "execution_count": null,
   "metadata": {
    "id": "JaH6H57ND-ou"
   },
   "outputs": [],
   "source": [
    "dict = {\"Month\":np.arange(73, 88)}\n",
    "fincsv = pd.DataFrame(dict)\n",
    "fincsv.set_index(\"Month\", inplace=True)"
   ]
  },
  {
   "cell_type": "code",
   "execution_count": null,
   "metadata": {
    "id": "YReBVHcpD-ow"
   },
   "outputs": [],
   "source": [
    "def create_model():\n",
    "    model = Sequential()\n",
    "    # model.add(TimeDistributed(Conv1D(filters=128, kernel_size=2, activation='relu'), input_shape=(None, 3, 2)))\n",
    "    # model.add(TimeDistributed(MaxPooling1D(pool_size=2)))\n",
    "    # model.add(BatchNormalization())\n",
    "    # model.add(TimeDistributed(Flatten()))\n",
    "    model.add((LSTM(1024, activation='tanh',input_shape=(None, 6) , return_sequences=True)))\n",
    "    model.add((LSTM(1024, activation='tanh', return_sequences=True)))\n",
    "    model.add((LSTM(512, activation='tanh', return_sequences=True)))\n",
    "    model.add((LSTM(256, activation='tanh')))\n",
    "    model.add((LSTM(256, activation='tanh')))\n",
    "    model.add((LSTM(256, activation='tanh')))\n",
    "    model.add((LSTM(128, activation='tanh')))\n",
    "    \n",
    "    model.add(Dense(128, activation='relu', kernel_regularizer = keras.regularizers.l2(0.01)))\n",
    "    model.add(Dropout(0.3))\n",
    "    model.add(Dense(64, activation='relu', kernel_regularizer = keras.regularizers.l2(0.01)))\n",
    "    \n",
    "    model.add(Dropout(0.4))\n",
    "    model.add(Dense(32, activation='relu', kernel_regularizer = keras.regularizers.l2(0.01)))\n",
    "    model.add(Dropout(0.5))\n",
    "    model.add(Dense(32, activation='relu', kernel_regularizer = keras.regularizers.l2(0.01)))\n",
    "    # model.add(Dense(64, activation='sigmoid'))\n",
    "    model.add(Dense(1))\n",
    "    opt = keras.optimizers.Adam(learning_rate = 0.02)\n",
    "    opt2 = keras.optimizers.SGD(learning_rate=0.001, momentum = 0.9)\n",
    "    \n",
    "    model.compile(optimizer = 'adam', loss='mape')\n",
    "    \n",
    "    return model"
   ]
  },
  {
   "cell_type": "code",
   "execution_count": null,
   "metadata": {
    "colab": {
     "base_uri": "https://localhost:8080/"
    },
    "id": "WTYbKOpVD-oz",
    "outputId": "d683f1e1-e470-4c37-eec3-7765b2814b6d"
   },
   "outputs": [],
   "source": [
    "m1 = create_model()\n",
    "m1.summary()"
   ]
  },
  {
   "cell_type": "code",
   "execution_count": null,
   "metadata": {
    "colab": {
     "base_uri": "https://localhost:8080/"
    },
    "id": "8Tu1xOthD-o1",
    "outputId": "870ee9ba-75fe-468c-c63f-bdf691b5b0b2"
   },
   "outputs": [],
   "source": [
    "cor = dfr.iloc[:,1:].corr(method = \"pearson\")\n",
    "corr = np.array(cor)\n",
    "cor.shape"
   ]
  },
  {
   "cell_type": "code",
   "execution_count": null,
   "metadata": {
    "id": "L_KA7FscD-o3"
   },
   "outputs": [],
   "source": [
    "# len(cor.iloc[0, :])\n",
    "# cor"
   ]
  },
  {
   "cell_type": "code",
   "execution_count": null,
   "metadata": {
    "id": "Ra-caF9vD-o4"
   },
   "outputs": [],
   "source": [
    "ind = [False]*len(cor.iloc[0, :])\n",
    "\n",
    "def find_corr_cols(l_thres, u_thresh):\n",
    "    # ind = [False]*len(cor.iloc[0, :])\n",
    "    # thresh = 0.9\n",
    "    related = []\n",
    "    unrelated = []\n",
    "    # flag=1\n",
    "    for i in range(0, len(cor.iloc[0, :])):\n",
    "        if ind[i] == False:\n",
    "            list = []\n",
    "            list.append(i+1)\n",
    "            for j in range(i+1, len(cor.iloc[0, :])):\n",
    "                if l_thres < corr[i, j] and corr[i, j] <= u_thresh and ind[j] == False:\n",
    "                    list.append(j+1)\n",
    "                    # flag=0\n",
    "                    ind[i] = True\n",
    "                    ind[j] = True\n",
    "                    print(\"related is \",i+1)\n",
    "            if len(list) == 1:\n",
    "                print(\"unrelated is \",i+1)\n",
    "                unrelated.append(i+1)\n",
    "                # ind[i] = False\n",
    "            else:\n",
    "                print(\"related is \",i+1)\n",
    "                related.append(list)\n",
    "            # if flag == 1 : \n",
    "                \n",
    "\n",
    "    return related, unrelated\n",
    "\n",
    "\n",
    "\n",
    "related9, unrelated9 = find_corr_cols(0.95, 1)\n",
    "related8, unrelated8 = find_corr_cols(0.85, 0.95)\n",
    "related7, unrelated7 = find_corr_cols(0.75, 0.85)\n",
    "# unrelated = unrelated8\n",
    "print(len(related9)+len(related8)+len(related7))\n"
   ]
  },
  {
   "cell_type": "code",
   "execution_count": null,
   "metadata": {
    "colab": {
     "base_uri": "https://localhost:8080/"
    },
    "id": "FQRyHJleD-o6",
    "outputId": "dbfb087a-fc73-47f4-f523-16192d699b39"
   },
   "outputs": [],
   "source": [
    "print(len(related9))\n",
    "print(len(related8))\n",
    "print(len(unrelated9))\n",
    "s = 0\n",
    "for i in range(len(related9)):\n",
    "    s = s + len(related9[i])\n",
    "\n",
    "for i in range(len(related8)):\n",
    "    s = s + len(related8[i])\n",
    "\n",
    "for i in range(len(related7)):\n",
    "    s = s + len(related7[i])\n",
    "print(3915 - s)\n",
    "# np.array(related9[0])"
   ]
  },
  {
   "cell_type": "code",
   "execution_count": null,
   "metadata": {
    "colab": {
     "base_uri": "https://localhost:8080/"
    },
    "id": "PLYYOOmBD-o8",
    "outputId": "758698e3-37d5-41ff-9869-f107007bcacd"
   },
   "outputs": [],
   "source": [
    "allrelated = related9 + related8 + related7 \n",
    "\n",
    "for uns in unrelated7:\n",
    "    allrelated.append([uns])\n",
    "s=0\n",
    "for i in range(len(allrelated)):\n",
    "    s = s + len(allrelated[i])\n",
    "s\n",
    "len(allrelated)\n",
    "# allrelated[-7:]"
   ]
  },
  {
   "cell_type": "code",
   "execution_count": null,
   "metadata": {
    "colab": {
     "base_uri": "https://localhost:8080/"
    },
    "id": "YQHULx76D-o9",
    "outputId": "9dee672a-719c-4c12-f744-a95815f16cc8"
   },
   "outputs": [],
   "source": [
    "# ls_correg = [[2, 12]]\n",
    "np.random.shuffle(allrelated)\n",
    "trainx= []\n",
    "trainy = []\n",
    "for ind,pee in enumerate(allrelated):\n",
    "    \n",
    "#     if(ind > 200):break\n",
    "\n",
    "    region = \"Region \" + str(pee[0])\n",
    "    \n",
    "    X, y = prepare_data(dfr[region], 6)\n",
    "        \n",
    "    X_train = X[:]\n",
    "    \n",
    "    y_train = y[:]\n",
    "    \n",
    "    # X_train = X_train.reshape((X_train.shape[0], 6))\n",
    "    \n",
    "    trainx.append(X_train)\n",
    "    trainy.append(y_train)\n",
    "    mont = 15\n",
    "    n_features = 1\n",
    "print(len(trainx))\n",
    "trainx = np.array(trainx)\n",
    "trainy = np.array(trainy)"
   ]
  },
  {
   "cell_type": "code",
   "execution_count": null,
   "metadata": {
    "id": "hzmIi-pGD-pA"
   },
   "outputs": [],
   "source": [
    "# trainx = trainx.reshape(672*66, 6)\n",
    "# trainy = trainy.flatten()"
   ]
  },
  {
   "cell_type": "code",
   "execution_count": null,
   "metadata": {
    "colab": {
     "base_uri": "https://localhost:8080/"
    },
    "id": "rdEFJnY4D-pB",
    "outputId": "c9790960-a23d-4e08-aa95-ee09a2f16f2d"
   },
   "outputs": [],
   "source": [
    "print(trainy.shape)\n",
    "print(trainx.shape)"
   ]
  },
  {
   "cell_type": "code",
   "execution_count": null,
   "metadata": {
    "id": "cM6sxi8nD-pC"
   },
   "outputs": [],
   "source": [
    "trainx = trainx.reshape((trainx.shape[0], 66, 6))"
   ]
  },
  {
   "cell_type": "code",
   "execution_count": null,
   "metadata": {},
   "outputs": [],
   "source": [
    "\n",
    "# model = load_model(str(add + \"reved.h5\"))\n",
    "\n",
    "\n",
    "\n",
    "# history = univ.fit(\n",
    "#     trainx, trainy, epochs=10000, \n",
    "#     verbose=2,\n",
    "#     shuffle=True,\n",
    "\n",
    "#     # workers = 16,\n",
    "#     # use_multiprocessing = True,\n",
    "\n",
    "# )\n",
    "\n",
    "# save_path = add+str(\"reved.h5\")\n",
    "# univ.save(save_path)\n"
   ]
  },
  {
   "cell_type": "code",
   "execution_count": null,
   "metadata": {
    "id": "cUF3v6DKD-pC"
   },
   "outputs": [],
   "source": [
    "# mirrored_strategy = tf.distribute.MirroredStrategy()\n",
    "# with mirrored_strategy.scope():\n",
    "univ = create_model()\n",
    "\n",
    "# import matplotlib.pyplot as plt\n",
    "\n",
    "history = univ.fit(\n",
    "    trainx, trainy, epochs = 400000, \n",
    "    verbose=2,\n",
    "    shuffle=True,\n",
    "    workers = 16,\n",
    "    use_multiprocessing = True,\n",
    "\n",
    ")\n",
    "\n",
    "save_path = \"reved.h5\"\n",
    "univ.save(save_path)\n",
    "\n"
   ]
  },
  {
   "cell_type": "code",
   "execution_count": null,
   "metadata": {},
   "outputs": [],
   "source": [
    "\n",
    "# plt.plot(history.history['accuracy'])\n",
    "# plt.plot(history.history['val_acc'])\n",
    "# plt.title('model accuracy')\n",
    "# plt.ylabel('accuracy')\n",
    "# plt.xlabel('epoch')\n",
    "# plt.legend(['train', 'val'], loc='upper left')\n",
    "# plt.show()\n"
   ]
  },
  {
   "cell_type": "code",
   "execution_count": null,
   "metadata": {
    "id": "F5qD0arND-pD"
   },
   "outputs": [],
   "source": [
    "dict = {\"Month\":np.arange(73, 88)}\n",
    "fincsv = pd.DataFrame(dict)\n",
    "fincsv.set_index(\"Month\", inplace=True)"
   ]
  },
  {
   "cell_type": "code",
   "execution_count": null,
   "metadata": {
    "id": "3xa7M1iLIdRm"
   },
   "outputs": [],
   "source": [
    "st = 0\n",
    "en = 3915"
   ]
  },
  {
   "cell_type": "code",
   "execution_count": null,
   "metadata": {
    "colab": {
     "base_uri": "https://localhost:8080/",
     "height": 234
    },
    "id": "LqqIAHejD-pD",
    "outputId": "ecff757e-d97b-43e2-fd24-df426b37f383"
   },
   "outputs": [],
   "source": [
    "for k in range(st,en):\n",
    "\n",
    "    region = \"Region \" + str(1+k)\n",
    "    \n",
    "    regar = np.array(dfr[region])\n",
    "    print(regar)\n",
    "    print(k)\n",
    "    \n",
    "    for i in range(15):\n",
    "                \n",
    "        test = regar[-6:].reshape((1, 1, 6))\n",
    "        \n",
    "        print(test)\n",
    "        \n",
    "        yhat = univ.predict(\n",
    "            test,\n",
    "            verbose=1,\n",
    "            # use_multiprocessing = True\n",
    "        )\n",
    "        \n",
    "        print(yhat)\n",
    "        \n",
    "        print(\"old -\", regar.shape)\n",
    "        \n",
    "        regar = np.append(regar, yhat)\n",
    "        \n",
    "        print(\"new -\", regar.shape)\n",
    "    \n",
    "    print(regar[-15:])\n",
    "\n",
    "    fincsv[region] = regar[-15:]*dev[k]+avg[k]\n"
   ]
  },
  {
   "cell_type": "code",
   "execution_count": null,
   "metadata": {
    "id": "eZuwx7WSD-pE"
   },
   "outputs": [],
   "source": [
    "fincsv.to_csv(str(1+st)+'-'+str(en)+'x.csv')\n",
    "\n",
    "fincsv\n",
    "\n",
    "\n",
    "# ddd = pd.read_csv(str(st)+'-'+str(en)+'.csv')\n"
   ]
  },
  {
   "cell_type": "code",
   "execution_count": null,
   "metadata": {
    "id": "DLDehc5PD-pE"
   },
   "outputs": [],
   "source": [
    "# fincsv.to_csv(\"l4.csv\")\n",
    "# fincsv"
   ]
  },
  {
   "cell_type": "code",
   "execution_count": null,
   "metadata": {
    "id": "qRp87KyyD-pF"
   },
   "outputs": [],
   "source": [
    "# import pandas as pd\n",
    "\n",
    "# ddd = pd.read_csv(str(st)+'-'+str(en)+'.csv')\n"
   ]
  },
  {
   "cell_type": "code",
   "execution_count": null,
   "metadata": {
    "id": "46n1MZHcD-pF"
   },
   "outputs": [],
   "source": [
    "# ddd.head()"
   ]
  },
  {
   "cell_type": "code",
   "execution_count": null,
   "metadata": {
    "id": "VfjOEIrbD-pF"
   },
   "outputs": [],
   "source": [
    "# ddd.shape"
   ]
  },
  {
   "cell_type": "markdown",
   "metadata": {
    "id": "CNTk8438D-pF"
   },
   "source": []
  },
  {
   "cell_type": "code",
   "execution_count": null,
   "metadata": {
    "id": "HNYE2yz1D-pH"
   },
   "outputs": [],
   "source": [
    "# f = fincsv"
   ]
  },
  {
   "cell_type": "code",
   "execution_count": null,
   "metadata": {
    "id": "62UFuwAnD-pH"
   },
   "outputs": [],
   "source": [
    "# f.head(3)"
   ]
  },
  {
   "cell_type": "code",
   "execution_count": null,
   "metadata": {
    "id": "q1E8GV2sD-pI"
   },
   "outputs": [],
   "source": []
  },
  {
   "cell_type": "code",
   "execution_count": null,
   "metadata": {
    "id": "Pw0btTWSD-pI"
   },
   "outputs": [],
   "source": [
    "# a = pd.read_csv('clirimasort.csv')\n",
    "\n",
    "# a.iloc[:,2000:] -= .3\n",
    "# a.iloc[:,1:2000] -= .1\n",
    "\n",
    "# a.iloc[:,1:] *= .4\n",
    "\n",
    "# a.to_csv('f2.csv')"
   ]
  },
  {
   "cell_type": "code",
   "execution_count": null,
   "metadata": {
    "id": "zPcSFQwHD-pJ"
   },
   "outputs": [],
   "source": []
  }
 ],
 "metadata": {
  "accelerator": "GPU",
  "colab": {
   "collapsed_sections": [],
   "name": "lstm_rebirth.ipynb",
   "provenance": []
  },
  "interpreter": {
   "hash": "c62687798b2e6c41aa6cefc0e6bfe0267420d9769261274e37131b8b1f06cbf8"
  },
  "kernelspec": {
   "display_name": "Python 3 (ipykernel)",
   "language": "python",
   "name": "python3"
  },
  "language_info": {
   "codemirror_mode": {
    "name": "ipython",
    "version": 3
   },
   "file_extension": ".py",
   "mimetype": "text/x-python",
   "name": "python",
   "nbconvert_exporter": "python",
   "pygments_lexer": "ipython3",
   "version": "3.9.7"
  }
 },
 "nbformat": 4,
 "nbformat_minor": 4
}
